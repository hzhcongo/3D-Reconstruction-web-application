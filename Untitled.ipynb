{
 "cells": [
  {
   "cell_type": "code",
   "execution_count": 1,
   "metadata": {
    "collapsed": true
   },
   "outputs": [],
   "source": [
    "import trimesh"
   ]
  },
  {
   "cell_type": "code",
   "execution_count": 3,
   "metadata": {
    "collapsed": true
   },
   "outputs": [],
   "source": [
    "mesh =trimesh.primitives.Box()"
   ]
  },
  {
   "cell_type": "code",
   "execution_count": 5,
   "metadata": {},
   "outputs": [
    {
     "data": {
      "text/plain": [
       "TrackedArray([[1, 3, 0],\n",
       "       [4, 1, 0],\n",
       "       [0, 3, 2],\n",
       "       [2, 4, 0],\n",
       "       [1, 7, 3],\n",
       "       [5, 1, 4],\n",
       "       [5, 7, 1],\n",
       "       [3, 7, 2],\n",
       "       [6, 4, 2],\n",
       "       [2, 7, 6],\n",
       "       [6, 5, 4],\n",
       "       [7, 5, 6]], dtype=int64)"
      ]
     },
     "execution_count": 5,
     "metadata": {},
     "output_type": "execute_result"
    }
   ],
   "source": [
    "mesh.faces"
   ]
  },
  {
   "cell_type": "code",
   "execution_count": 6,
   "metadata": {
    "collapsed": true
   },
   "outputs": [],
   "source": [
    "import numpy as np"
   ]
  },
  {
   "cell_type": "code",
   "execution_count": 7,
   "metadata": {
    "collapsed": true
   },
   "outputs": [],
   "source": [
    "face_index = np.arange(len(mesh.faces))"
   ]
  },
  {
   "cell_type": "code",
   "execution_count": 8,
   "metadata": {},
   "outputs": [
    {
     "data": {
      "text/plain": [
       "array([ 0,  1,  2,  3,  4,  5,  6,  7,  8,  9, 10, 11])"
      ]
     },
     "execution_count": 8,
     "metadata": {},
     "output_type": "execute_result"
    }
   ],
   "source": [
    "face_index"
   ]
  },
  {
   "cell_type": "code",
   "execution_count": 9,
   "metadata": {
    "collapsed": true
   },
   "outputs": [],
   "source": [
    "faces = mesh.faces[face_index]"
   ]
  },
  {
   "cell_type": "code",
   "execution_count": 11,
   "metadata": {
    "collapsed": true
   },
   "outputs": [],
   "source": [
    "triangles = mesh.triangles[face_index]"
   ]
  },
  {
   "cell_type": "code",
   "execution_count": null,
   "metadata": {
    "collapsed": true
   },
   "outputs": [],
   "source": []
  },
  {
   "cell_type": "code",
   "execution_count": 13,
   "metadata": {
    "collapsed": true
   },
   "outputs": [],
   "source": [
    "mid = np.vstack([triangles[:, g, :].mean(axis=1) for g in [[0, 1],\n",
    "                                                               [1, 2],\n",
    "                                                               [2, 0]]])"
   ]
  },
  {
   "cell_type": "code",
   "execution_count": 15,
   "metadata": {
    "collapsed": true
   },
   "outputs": [],
   "source": [
    "mid_idx = (np.arange(len(face_index) * 3)).reshape((3, -1)).T"
   ]
  },
  {
   "cell_type": "code",
   "execution_count": 18,
   "metadata": {
    "collapsed": true
   },
   "outputs": [],
   "source": [
    "unique, inverse = trimesh.grouping.unique_rows(mid)"
   ]
  },
  {
   "cell_type": "code",
   "execution_count": 22,
   "metadata": {},
   "outputs": [
    {
     "data": {
      "text/plain": [
       "array([ 3,  4,  1, 15,  5,  9, 32,  7,  2, 26,  0, 13, 14, 10,  8,  6, 22,\n",
       "       21], dtype=int64)"
      ]
     },
     "execution_count": 22,
     "metadata": {},
     "output_type": "execute_result"
    }
   ],
   "source": [
    "unique"
   ]
  },
  {
   "cell_type": "code",
   "execution_count": 20,
   "metadata": {},
   "outputs": [
    {
     "data": {
      "text/plain": [
       "array([[-0.5,  0. ,  0.5],\n",
       "       [ 0. , -0.5,  0. ],\n",
       "       [-0.5,  0. ,  0. ],\n",
       "       [ 0. ,  0. , -0.5],\n",
       "       [ 0. ,  0. ,  0.5],\n",
       "       [ 0. , -0.5,  0.5],\n",
       "       [ 0.5,  0. ,  0.5],\n",
       "       [ 0. ,  0.5,  0.5],\n",
       "       [ 0.5,  0. , -0.5],\n",
       "       [ 0. ,  0.5,  0. ],\n",
       "       [ 0.5,  0. ,  0. ],\n",
       "       [ 0.5,  0. ,  0.5],\n",
       "       [-0.5,  0. ,  0. ],\n",
       "       [-0.5, -0.5,  0. ],\n",
       "       [-0.5,  0.5,  0. ],\n",
       "       [ 0. , -0.5, -0.5],\n",
       "       [ 0. ,  0.5,  0.5],\n",
       "       [ 0. , -0.5,  0. ],\n",
       "       [ 0. ,  0. ,  0.5],\n",
       "       [ 0. ,  0.5,  0. ],\n",
       "       [ 0. ,  0. , -0.5],\n",
       "       [ 0.5,  0.5,  0. ],\n",
       "       [ 0.5, -0.5,  0. ],\n",
       "       [ 0.5,  0. ,  0. ],\n",
       "       [-0.5, -0.5,  0. ],\n",
       "       [ 0. , -0.5, -0.5],\n",
       "       [-0.5,  0. , -0.5],\n",
       "       [-0.5,  0. , -0.5],\n",
       "       [-0.5,  0. ,  0.5],\n",
       "       [ 0.5, -0.5,  0. ],\n",
       "       [ 0. , -0.5,  0.5],\n",
       "       [-0.5,  0.5,  0. ],\n",
       "       [ 0. ,  0.5, -0.5],\n",
       "       [ 0. ,  0.5, -0.5],\n",
       "       [ 0.5,  0. , -0.5],\n",
       "       [ 0.5,  0.5,  0. ]])"
      ]
     },
     "execution_count": 20,
     "metadata": {},
     "output_type": "execute_result"
    }
   ],
   "source": [
    "mid"
   ]
  },
  {
   "cell_type": "code",
   "execution_count": 23,
   "metadata": {
    "collapsed": true
   },
   "outputs": [],
   "source": [
    "mid_idx = inverse[mid_idx] + len(mesh.vertices)"
   ]
  },
  {
   "cell_type": "code",
   "execution_count": 30,
   "metadata": {},
   "outputs": [
    {
     "data": {
      "text/plain": [
       "array([18, 10, 16,  8,  9, 12, 23, 15, 22, 13, 21, 23], dtype=int64)"
      ]
     },
     "execution_count": 30,
     "metadata": {},
     "output_type": "execute_result"
    }
   ],
   "source": [
    "mid_idx[:,0]"
   ]
  },
  {
   "cell_type": "markdown",
   "metadata": {},
   "source": [
    "mid = mid[unique]"
   ]
  },
  {
   "cell_type": "code",
   "execution_count": 26,
   "metadata": {
    "collapsed": true
   },
   "outputs": [],
   "source": [
    "mid = mid[unique]"
   ]
  },
  {
   "cell_type": "code",
   "execution_count": 29,
   "metadata": {},
   "outputs": [
    {
     "data": {
      "text/plain": [
       "array([[18, 16, 19],\n",
       "       [10, 19, 11],\n",
       "       [16, 20, 17],\n",
       "       [ 8, 11, 17],\n",
       "       [ 9, 15, 18],\n",
       "       [12, 10, 24],\n",
       "       [23,  9, 12],\n",
       "       [15, 13, 20],\n",
       "       [22,  8, 14],\n",
       "       [13, 25, 14],\n",
       "       [21, 24, 22],\n",
       "       [23, 21, 25]], dtype=int64)"
      ]
     },
     "execution_count": 29,
     "metadata": {},
     "output_type": "execute_result"
    }
   ],
   "source": [
    "mid_idx"
   ]
  }
 ],
 "metadata": {
  "kernelspec": {
   "display_name": "Python 2",
   "language": "python",
   "name": "python2"
  },
  "language_info": {
   "codemirror_mode": {
    "name": "ipython",
    "version": 2
   },
   "file_extension": ".py",
   "mimetype": "text/x-python",
   "name": "python",
   "nbconvert_exporter": "python",
   "pygments_lexer": "ipython2",
   "version": "2.7.13"
  }
 },
 "nbformat": 4,
 "nbformat_minor": 2
}
